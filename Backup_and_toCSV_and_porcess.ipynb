{
 "cells": [
  {
   "cell_type": "markdown",
   "metadata": {},
   "source": [
    "# 備份 txt 檔與轉換 csv 檔\n",
    "以建檔日期當檔名"
   ]
  },
  {
   "cell_type": "code",
   "execution_count": 39,
   "metadata": {},
   "outputs": [
    {
     "name": "stdout",
     "output_type": "stream",
     "text": [
      "0. 檔案建立日期為：2021-07-31_17-42-07\n",
      "2. 2021-07-31_17-42-07.csv 檔備份完畢，在 csvFloder 的資料夾。\n"
     ]
    }
   ],
   "source": [
    "import os\n",
    "import datetime\n",
    "import numpy as np\n",
    "import pandas as pd\n",
    "\n",
    "# 取得檔案的建立時間\n",
    "filePath = './data.txt'                                     # 檔案路徑\n",
    "unix_time = os.path.getctime(filePath)                      # 取得檔案修改時間，如果要用創立時間 用 os.path.getctime\n",
    "datetimeObj = datetime.datetime.fromtimestamp(unix_time)    # 轉時間物件\n",
    "dateStr = datetimeObj.strftime('%Y-%m-%d_%H-%M-%S')         # 轉字串\n",
    "print(f'0. 檔案建立日期為：{dateStr}')\n",
    "\n",
    "\n",
    "# 轉檔\n",
    "# 1. 備份 txt 檔，在 txtFolder 資料夾。\n",
    "# raw_data = pd.read_csv (filePath, sep=\"s+\", encoding='UTF-8', engine='python')     # 讀取\n",
    "# raw_data.to_csv (f'./txtFolder/{dateStr}.txt', index=False)                        # 備份 txt 檔\n",
    "# print(f'1. {dateStr}.txt 檔備份完畢，在 txtFloder 的資料夾。')\n",
    "\n",
    "# 2. 匯出 csv 檔，在 csvFolder 資料夾。\n",
    "# colunmNames = ['timeStamp','Cload', 'Kp', 'Ki', 'Kd', 'Kcpu', 'Imax', 'Imin', 'Err', 'PWR', 'MaxErr']   # 橫列 (column) 賦予名字\n",
    "raw_data = pd.read_csv (filePath, sep=\"\\s+\", encoding='UTF-8', engine='python', header=None)      # 讀取\n",
    "# raw_data = pd.read_csv (filePath, sep=\"\\s+\", encoding='UTF-8', engine='python')\n",
    "convert_to_csv = raw_data.replace('',',')                                                               # 分隔：空白 → 逗點\n",
    "raw_data.to_csv (f'./csvFolder/{dateStr}.csv')                                                          # 匯出成 csv 檔 (默認 index=True)\n",
    "print(f'2. {dateStr}.csv 檔備份完畢，在 csvFloder 的資料夾。')\n"
   ]
  },
  {
   "cell_type": "markdown",
   "metadata": {},
   "source": [
    "# 讀取剛剛生成的 csv 檔\n",
    "目的：取出 Cload、Kp、Ki、Kd、Err、PWR_SUM、MAX_Err、Inlet (共 8 項)"
   ]
  },
  {
   "cell_type": "code",
   "execution_count": 43,
   "metadata": {},
   "outputs": [
    {
     "name": "stdout",
     "output_type": "stream",
     "text": [
      "      timeStamp                Cload              Kp         Ki        Kd  \\\n",
      "1           0.0                  360            0.00       0.00      0.00   \n",
      "2           1.0                Err:0  PWR_SUM:296019  MAX_Err:0  Inlet:26   \n",
      "3           2.0  2021/07/18-14:41:30               1         62       169   \n",
      "4           3.0  2021/07/18-14:41:31               2         71       216   \n",
      "5           4.0  2021/07/18-14:41:32               3         70       279   \n",
      "...         ...                  ...             ...        ...       ...   \n",
      "2789     2788.0  2021/07/21-17:03:52              57         76       280   \n",
      "2790     2789.0  2021/07/21-17:03:52              58         76       279   \n",
      "2791     2790.0  2021/07/21-17:03:54              59         76       280   \n",
      "2792     2791.0  2021/07/21-17:03:54              60         76       280   \n",
      "2793     2792.0                    =             NaN        NaN       NaN   \n",
      "\n",
      "       Kcpu  Imax  Imin  Err  PWR  MaxErr  \n",
      "1       0.0   0.0   0.0  NaN  NaN     NaN  \n",
      "2       NaN   NaN   NaN  NaN  NaN     NaN  \n",
      "3     387.0  36.0   NaN  NaN  NaN     NaN  \n",
      "4     499.0  58.0   NaN  NaN  NaN     NaN  \n",
      "5     662.0  56.0   NaN  NaN  NaN     NaN  \n",
      "...     ...   ...   ...  ...  ...     ...  \n",
      "2789  866.0  70.0   NaN  NaN  NaN     NaN  \n",
      "2790  866.0  70.0   NaN  NaN  NaN     NaN  \n",
      "2791  866.0  70.0   NaN  NaN  NaN     NaN  \n",
      "2792  866.0  70.0   NaN  NaN  NaN     NaN  \n",
      "2793    NaN   NaN   NaN  NaN  NaN     NaN  \n",
      "\n",
      "[2793 rows x 11 columns]\n"
     ]
    }
   ],
   "source": [
    "import pandas as pd\n",
    "\n",
    "colunmNames = ['timeStamp','Cload', 'Kp', 'Ki', 'Kd', 'Kcpu', 'Imax', 'Imin', 'Err', 'PWR', 'MaxErr']                  # 橫列 (column) 賦予名字\n",
    "# df = pd.read_csv (f'./txtFolder11/2021-07-31_17-42-0755.csv', sep=\",\", encoding='UTF-8', engine='python')              # 讀取\n",
    "\n",
    "df1 = pd.read_csv (f'./csvFolder/{dateStr}.csv', sep=\",\", encoding='UTF-8', engine='python', names=colunmNames)\n",
    "# print(df1)\n",
    "\n",
    "df = df1.drop(index=0)\n",
    "print(df)"
   ]
  },
  {
   "cell_type": "markdown",
   "metadata": {},
   "source": [
    "# 尋找分界符號 '='\n",
    "因為找出該位置的，下一列與下下列就是 Cload 與 Err 的橫列。"
   ]
  },
  {
   "cell_type": "markdown",
   "metadata": {},
   "source": [
    "## 找出 Cload 為 '=' 的橫列"
   ]
  },
  {
   "cell_type": "code",
   "execution_count": 45,
   "metadata": {},
   "outputs": [
    {
     "name": "stdout",
     "output_type": "stream",
     "text": [
      "      timeStamp Cload   Kp   Ki   Kd  Kcpu  Imax  Imin  Err  PWR  MaxErr\n",
      "363       362.0     =  NaN  NaN  NaN   NaN   NaN   NaN  NaN  NaN     NaN\n",
      "726       725.0     =  NaN  NaN  NaN   NaN   NaN   NaN  NaN  NaN     NaN\n",
      "1089     1088.0     =  NaN  NaN  NaN   NaN   NaN   NaN  NaN  NaN     NaN\n",
      "1452     1451.0     =  NaN  NaN  NaN   NaN   NaN   NaN  NaN  NaN     NaN\n",
      "1815     1814.0     =  NaN  NaN  NaN   NaN   NaN   NaN  NaN  NaN     NaN\n",
      "2178     2177.0     =  NaN  NaN  NaN   NaN   NaN   NaN  NaN  NaN     NaN\n",
      "2541     2540.0     =  NaN  NaN  NaN   NaN   NaN   NaN  NaN  NaN     NaN\n",
      "2604     2603.0     =  NaN  NaN  NaN   NaN   NaN   NaN  NaN  NaN     NaN\n",
      "2667     2666.0     =  NaN  NaN  NaN   NaN   NaN   NaN  NaN  NaN     NaN\n",
      "2730     2729.0     =  NaN  NaN  NaN   NaN   NaN   NaN  NaN  NaN     NaN\n",
      "2793     2792.0     =  NaN  NaN  NaN   NaN   NaN   NaN  NaN  NaN     NaN\n"
     ]
    }
   ],
   "source": [
    "# 篩選直行 (colunm) 為 Cload ，內容為 '=' 的項目\n",
    "filterEqual = df['Cload'] == '='    # 找出 csv_file 檔中，在 Cload 索引中(直行) 為 '=' 的數值，回傳 True。\n",
    "CloadEqual = df[filterEqual]            # 只顯示 csv_file 中為 True 的資料。\n",
    "print(CloadEqual)"
   ]
  },
  {
   "cell_type": "code",
   "execution_count": 46,
   "metadata": {},
   "outputs": [
    {
     "name": "stdout",
     "output_type": "stream",
     "text": [
      "363      362.0\n",
      "726      725.0\n",
      "1089    1088.0\n",
      "1452    1451.0\n",
      "1815    1814.0\n",
      "2178    2177.0\n",
      "2541    2540.0\n",
      "2604    2603.0\n",
      "2667    2666.0\n",
      "2730    2729.0\n",
      "2793    2792.0\n",
      "Name: timeStamp, dtype: float64\n",
      "<class 'pandas.core.series.Series'>\n"
     ]
    }
   ],
   "source": [
    "timeStampIndex = CloadEqual['timeStamp']\n",
    "\n",
    "print(timeStampIndex)\n",
    "print(type(timeStampIndex))"
   ]
  },
  {
   "cell_type": "markdown",
   "metadata": {},
   "source": [
    "## 找出 Cload 與 Err 的橫列"
   ]
  },
  {
   "cell_type": "markdown",
   "metadata": {},
   "source": [
    "### 生成與 timeStampIndex 相同長度的 list\n",
    "利用 Python list 來運算"
   ]
  },
  {
   "cell_type": "code",
   "execution_count": 47,
   "metadata": {},
   "outputs": [
    {
     "name": "stdout",
     "output_type": "stream",
     "text": [
      "363      362.0\n",
      "726      725.0\n",
      "1089    1088.0\n",
      "1452    1451.0\n",
      "1815    1814.0\n",
      "2178    2177.0\n",
      "2541    2540.0\n",
      "2604    2603.0\n",
      "2667    2666.0\n",
      "2730    2729.0\n",
      "2793    2792.0\n",
      "Name: timeStamp, dtype: float64\n",
      "11\n",
      "[1, 1, 1, 1, 1, 1, 1, 1, 1, 1, 1]\n",
      "[2, 2, 2, 2, 2, 2, 2, 2, 2, 2, 2]\n"
     ]
    }
   ],
   "source": [
    "print(timeStampIndex)                 # timeStampIndex 所在的\n",
    "\n",
    "print(len(timeStampIndex))            # 含有 timeStampIndex 中，list 的長度\n",
    "\n",
    "add1 = [1] * len(timeStampIndex)      # 以相同長度 +1\n",
    "print(add1)\n",
    "\n",
    "add2 = [2] * len(timeStampIndex)      # 以相同長度 +2\n",
    "print(add2)"
   ]
  },
  {
   "cell_type": "markdown",
   "metadata": {},
   "source": [
    "### 和 timeStampIndex 位置的 list 加法與減法"
   ]
  },
  {
   "cell_type": "code",
   "execution_count": 48,
   "metadata": {},
   "outputs": [
    {
     "name": "stdout",
     "output_type": "stream",
     "text": [
      "+1：\n",
      "[363.0, 726.0, 1089.0, 1452.0, 1815.0, 2178.0, 2541.0, 2604.0, 2667.0, 2730.0, 2793.0]\n",
      "\n",
      "+2：\n",
      "[364.0, 727.0, 1090.0, 1453.0, 1816.0, 2179.0, 2542.0, 2605.0, 2668.0, 2731.0, 2794.0]\n",
      "\n"
     ]
    }
   ],
   "source": [
    "cloumnAdd1 = [a+b for a,b in zip(timeStampIndex, add1)]\n",
    "print(f'+1：\\n{cloumnAdd1}\\n')\n",
    "\n",
    "cloumnAdd2 = [a+b for a,b in zip(timeStampIndex, add2)]\n",
    "print(f'+2：\\n{cloumnAdd2}\\n')"
   ]
  },
  {
   "cell_type": "markdown",
   "metadata": {},
   "source": [
    "### list 轉 series\n",
    "利用 series 篩選 DataFrame 的位置"
   ]
  },
  {
   "cell_type": "code",
   "execution_count": 49,
   "metadata": {},
   "outputs": [
    {
     "name": "stdout",
     "output_type": "stream",
     "text": [
      "<class 'list'>\n",
      "<class 'pandas.core.series.Series'>\n"
     ]
    }
   ],
   "source": [
    "SeriesAdd1 = pd.Series(cloumnAdd1)\n",
    "SeriesAdd2 = pd.Series(cloumnAdd2)\n",
    "\n",
    "print(type(cloumnAdd1))             # list\n",
    "print(type(SeriesAdd1))             # Series"
   ]
  },
  {
   "cell_type": "markdown",
   "metadata": {},
   "source": [
    "# 取得資料 - Cload"
   ]
  },
  {
   "cell_type": "markdown",
   "metadata": {},
   "source": [
    "## 取得橫列 - Cload"
   ]
  },
  {
   "cell_type": "code",
   "execution_count": 50,
   "metadata": {},
   "outputs": [
    {
     "name": "stdout",
     "output_type": "stream",
     "text": [
      "      timeStamp Cload    Kp    Ki    Kd  Kcpu  Imax  Imin  Err  PWR  MaxErr\n",
      "364       363.0   360  0.00  0.00  0.00   0.0   0.0   0.0  NaN  NaN     NaN\n",
      "727       726.0   360  0.00  0.00  0.00   0.0   0.0   0.0  NaN  NaN     NaN\n",
      "1090     1089.0   360  0.00  0.00  0.00   0.0   0.0   0.0  NaN  NaN     NaN\n",
      "1453     1452.0   360  0.00  0.00  0.00   0.0   0.0   0.0  NaN  NaN     NaN\n",
      "1816     1815.0   360  0.00  0.00  0.00   0.0   0.0   0.0  NaN  NaN     NaN\n",
      "2179     2178.0   360  0.00  0.00  0.00   0.0   0.0   0.0  NaN  NaN     NaN\n",
      "2542     2541.0    60  0.00  0.00  0.00   0.0   0.0   0.0  NaN  NaN     NaN\n",
      "2605     2604.0    60  0.00  0.00  0.00   0.0   0.0   0.0  NaN  NaN     NaN\n",
      "2668     2667.0    60  0.00  0.00  0.00   0.0   0.0   0.0  NaN  NaN     NaN\n",
      "2731     2730.0    60  0.00  0.00  0.00   0.0   0.0   0.0  NaN  NaN     NaN\n"
     ]
    }
   ],
   "source": [
    "x = df['timeStamp'].isin(SeriesAdd1)\n",
    "# print(x)\n",
    "\n",
    "Cload_data_index = df[x]                                      # 篩選出 Cload 橫列的資料\n",
    "print(Cload_data_index)"
   ]
  },
  {
   "cell_type": "markdown",
   "metadata": {},
   "source": [
    "## 去除多餘直行 - Cload"
   ]
  },
  {
   "cell_type": "code",
   "execution_count": 55,
   "metadata": {},
   "outputs": [
    {
     "name": "stdout",
     "output_type": "stream",
     "text": [
      "      timeStamp Cload    Kp    Ki    Kd  Kcpu  Imax  Imin\n",
      "364       363.0   360  0.00  0.00  0.00   0.0   0.0   0.0\n",
      "727       726.0   360  0.00  0.00  0.00   0.0   0.0   0.0\n",
      "1090     1089.0   360  0.00  0.00  0.00   0.0   0.0   0.0\n",
      "1453     1452.0   360  0.00  0.00  0.00   0.0   0.0   0.0\n",
      "1816     1815.0   360  0.00  0.00  0.00   0.0   0.0   0.0\n",
      "2179     2178.0   360  0.00  0.00  0.00   0.0   0.0   0.0\n",
      "2542     2541.0    60  0.00  0.00  0.00   0.0   0.0   0.0\n",
      "2605     2604.0    60  0.00  0.00  0.00   0.0   0.0   0.0\n",
      "2668     2667.0    60  0.00  0.00  0.00   0.0   0.0   0.0\n",
      "2731     2730.0    60  0.00  0.00  0.00   0.0   0.0   0.0\n"
     ]
    }
   ],
   "source": [
    "Cload_data = Cload_data_index.drop(['Err','PWR','MaxErr'], axis=1)\n",
    "print(Cload_data)"
   ]
  },
  {
   "cell_type": "markdown",
   "metadata": {},
   "source": [
    "## 調整 Cload 資料的 timeStamp 直行\n",
    "為了和 Err 合併"
   ]
  },
  {
   "cell_type": "code",
   "execution_count": 57,
   "metadata": {},
   "outputs": [
    {
     "name": "stdout",
     "output_type": "stream",
     "text": [
      "364      364.0\n",
      "727      727.0\n",
      "1090    1090.0\n",
      "1453    1453.0\n",
      "1816    1816.0\n",
      "2179    2179.0\n",
      "2542    2542.0\n",
      "2605    2605.0\n",
      "2668    2668.0\n",
      "2731    2731.0\n",
      "Name: timeStamp, dtype: float64\n"
     ]
    }
   ],
   "source": [
    "Cload_data['timeStamp'] = Cload_data['timeStamp']+1\n",
    "print(Cload_data['timeStamp'])"
   ]
  },
  {
   "cell_type": "markdown",
   "metadata": {},
   "source": [
    "## 匯出 Cload 檔案，檔名 <日期>_Cload.csv\n",
    "存在 processCsvFolder 資料夾"
   ]
  },
  {
   "cell_type": "code",
   "execution_count": 85,
   "metadata": {},
   "outputs": [
    {
     "name": "stdout",
     "output_type": "stream",
     "text": [
      "已於 processCsvFloder 資料夾，匯出檔案！\n",
      "檔名為：2021-07-31_17-42-07_Cload.csv\n"
     ]
    }
   ],
   "source": [
    "Cload_data.to_csv(f'./processCsvFolder/{dateStr}_Cload.csv', index=False)    # 確定匯出檔案無誤\n",
    "print(f'3. 已於 processCsvFloder 資料夾，匯出檔案！\\n檔名為：{dateStr}_Cload.csv')3."
   ]
  },
  {
   "cell_type": "markdown",
   "metadata": {},
   "source": [
    "# 取得資料 - Err"
   ]
  },
  {
   "cell_type": "markdown",
   "metadata": {},
   "source": [
    "## 取得橫列 - Err"
   ]
  },
  {
   "cell_type": "code",
   "execution_count": 52,
   "metadata": {},
   "outputs": [
    {
     "name": "stdout",
     "output_type": "stream",
     "text": [
      "      timeStamp  Cload              Kp         Ki        Kd  Kcpu  Imax  Imin  \\\n",
      "365       364.0  Err:0  PWR_SUM:296019  MAX_Err:0  Inlet:26   NaN   NaN   NaN   \n",
      "728       727.0  Err:0  PWR_SUM:296019  MAX_Err:0  Inlet:26   NaN   NaN   NaN   \n",
      "1091     1090.0  Err:0  PWR_SUM:296019  MAX_Err:0  Inlet:26   NaN   NaN   NaN   \n",
      "1454     1453.0  Err:0  PWR_SUM:296019  MAX_Err:0  Inlet:26   NaN   NaN   NaN   \n",
      "1817     1816.0  Err:0  PWR_SUM:296019  MAX_Err:0  Inlet:26   NaN   NaN   NaN   \n",
      "2180     2179.0  Err:0  PWR_SUM:296019  MAX_Err:0  Inlet:26   NaN   NaN   NaN   \n",
      "2543     2542.0  Err:0   PWR_SUM:50661  MAX_Err:0  Inlet:25   NaN   NaN   NaN   \n",
      "2606     2605.0  Err:0   PWR_SUM:50661  MAX_Err:0  Inlet:25   NaN   NaN   NaN   \n",
      "2669     2668.0  Err:0   PWR_SUM:50661  MAX_Err:0  Inlet:25   NaN   NaN   NaN   \n",
      "2732     2731.0  Err:0   PWR_SUM:50661  MAX_Err:0  Inlet:25   NaN   NaN   NaN   \n",
      "\n",
      "      Err  PWR  MaxErr  \n",
      "365   NaN  NaN     NaN  \n",
      "728   NaN  NaN     NaN  \n",
      "1091  NaN  NaN     NaN  \n",
      "1454  NaN  NaN     NaN  \n",
      "1817  NaN  NaN     NaN  \n",
      "2180  NaN  NaN     NaN  \n",
      "2543  NaN  NaN     NaN  \n",
      "2606  NaN  NaN     NaN  \n",
      "2669  NaN  NaN     NaN  \n",
      "2732  NaN  NaN     NaN  \n"
     ]
    }
   ],
   "source": [
    "Err_data_index = df['timeStamp'].isin(cloumnAdd2)\n",
    "# print(Err_data_index)\n",
    "\n",
    "Err_data = df[Err_data_index]\n",
    "print(Err_data)"
   ]
  },
  {
   "cell_type": "markdown",
   "metadata": {},
   "source": [
    "## 去除多餘的直行 - Err"
   ]
  },
  {
   "cell_type": "code",
   "execution_count": 56,
   "metadata": {},
   "outputs": [
    {
     "name": "stdout",
     "output_type": "stream",
     "text": [
      "      timeStamp    Err         PWR_SUM    MAX_Err     Inlet\n",
      "365       364.0  Err:0  PWR_SUM:296019  MAX_Err:0  Inlet:26\n",
      "728       727.0  Err:0  PWR_SUM:296019  MAX_Err:0  Inlet:26\n",
      "1091     1090.0  Err:0  PWR_SUM:296019  MAX_Err:0  Inlet:26\n",
      "1454     1453.0  Err:0  PWR_SUM:296019  MAX_Err:0  Inlet:26\n",
      "1817     1816.0  Err:0  PWR_SUM:296019  MAX_Err:0  Inlet:26\n",
      "2180     2179.0  Err:0  PWR_SUM:296019  MAX_Err:0  Inlet:26\n",
      "2543     2542.0  Err:0   PWR_SUM:50661  MAX_Err:0  Inlet:25\n",
      "2606     2605.0  Err:0   PWR_SUM:50661  MAX_Err:0  Inlet:25\n",
      "2669     2668.0  Err:0   PWR_SUM:50661  MAX_Err:0  Inlet:25\n",
      "2732     2731.0  Err:0   PWR_SUM:50661  MAX_Err:0  Inlet:25\n"
     ]
    }
   ],
   "source": [
    "ErrDrop = Err_data.drop(['Kcpu','Imax','Imin','Err','PWR','MaxErr'], axis=1)\n",
    "# print(ErrDrop)\n",
    "\n",
    "PWR_data = ErrDrop.rename(columns={'Cload':'Err', 'Kp':'PWR_SUM', 'Ki':'MAX_Err', 'Kd':'Inlet'})\n",
    "print(PWR_data)"
   ]
  },
  {
   "cell_type": "markdown",
   "metadata": {},
   "source": [
    "## 匯出 Err 檔案，檔名 <日期>_Err.csv\n",
    "存在 processCsvFolder 資料夾"
   ]
  },
  {
   "cell_type": "code",
   "execution_count": 13,
   "metadata": {},
   "outputs": [
    {
     "name": "stdout",
     "output_type": "stream",
     "text": [
      "已於 processCsvFloder 資料夾，匯出檔案！\n",
      "檔名為：2021-07-28_21-44-21_Err.csv\n"
     ]
    }
   ],
   "source": [
    "PWR_data.to_csv(f'./processCsvFolder/{dateStr}_Err.csv', index=False)    # 確定匯出檔案無誤\n",
    "print(f'4. 已於 processCsvFloder 資料夾，匯出檔案！\\n檔名為：{dateStr}_Err.csv')"
   ]
  },
  {
   "cell_type": "markdown",
   "metadata": {},
   "source": [
    "# 合併 Cload 和 Err"
   ]
  },
  {
   "cell_type": "markdown",
   "metadata": {},
   "source": [
    "## 合併下面資料"
   ]
  },
  {
   "cell_type": "code",
   "execution_count": 58,
   "metadata": {},
   "outputs": [
    {
     "name": "stdout",
     "output_type": "stream",
     "text": [
      "   timeStamp Cload    Kp    Ki    Kd  Kcpu  Imax  Imin    Err         PWR_SUM  \\\n",
      "0      364.0   360  0.00  0.00  0.00   0.0   0.0   0.0  Err:0  PWR_SUM:296019   \n",
      "1      727.0   360  0.00  0.00  0.00   0.0   0.0   0.0  Err:0  PWR_SUM:296019   \n",
      "2     1090.0   360  0.00  0.00  0.00   0.0   0.0   0.0  Err:0  PWR_SUM:296019   \n",
      "3     1453.0   360  0.00  0.00  0.00   0.0   0.0   0.0  Err:0  PWR_SUM:296019   \n",
      "4     1816.0   360  0.00  0.00  0.00   0.0   0.0   0.0  Err:0  PWR_SUM:296019   \n",
      "5     2179.0   360  0.00  0.00  0.00   0.0   0.0   0.0  Err:0  PWR_SUM:296019   \n",
      "6     2542.0    60  0.00  0.00  0.00   0.0   0.0   0.0  Err:0   PWR_SUM:50661   \n",
      "7     2605.0    60  0.00  0.00  0.00   0.0   0.0   0.0  Err:0   PWR_SUM:50661   \n",
      "8     2668.0    60  0.00  0.00  0.00   0.0   0.0   0.0  Err:0   PWR_SUM:50661   \n",
      "9     2731.0    60  0.00  0.00  0.00   0.0   0.0   0.0  Err:0   PWR_SUM:50661   \n",
      "\n",
      "     MAX_Err     Inlet  \n",
      "0  MAX_Err:0  Inlet:26  \n",
      "1  MAX_Err:0  Inlet:26  \n",
      "2  MAX_Err:0  Inlet:26  \n",
      "3  MAX_Err:0  Inlet:26  \n",
      "4  MAX_Err:0  Inlet:26  \n",
      "5  MAX_Err:0  Inlet:26  \n",
      "6  MAX_Err:0  Inlet:25  \n",
      "7  MAX_Err:0  Inlet:25  \n",
      "8  MAX_Err:0  Inlet:25  \n",
      "9  MAX_Err:0  Inlet:25  \n"
     ]
    }
   ],
   "source": [
    "mergeCloadAndErr1 = pd.merge(Cload_data, PWR_data, on=\"timeStamp\")\n",
    "print(mergeCloadAndErr1)"
   ]
  },
  {
   "cell_type": "markdown",
   "metadata": {},
   "source": [
    "## 第一欄位資料處理"
   ]
  },
  {
   "cell_type": "code",
   "execution_count": 73,
   "metadata": {},
   "outputs": [
    {
     "name": "stdout",
     "output_type": "stream",
     "text": [
      "   timeStamp  Cload              Kp         Ki        Kd  Kcpu  Imax  Imin  \\\n",
      "1        0.0    360            0.00       0.00      0.00   0.0   0.0   0.0   \n",
      "2        1.0  Err:0  PWR_SUM:296019  MAX_Err:0  Inlet:26   NaN   NaN   NaN   \n",
      "\n",
      "   Err  PWR  MaxErr  \n",
      "1  NaN  NaN     NaN  \n",
      "2  NaN  NaN     NaN  \n"
     ]
    }
   ],
   "source": [
    "ErrHead = df.head(2)\n",
    "print(ErrHead)"
   ]
  },
  {
   "cell_type": "code",
   "execution_count": 74,
   "metadata": {},
   "outputs": [
    {
     "name": "stdout",
     "output_type": "stream",
     "text": [
      "   timeStamp  Cload              Kp         Ki        Kd  Kcpu  Imax  Imin\n",
      "1        0.0    360            0.00       0.00      0.00   0.0   0.0   0.0\n",
      "2        1.0  Err:0  PWR_SUM:296019  MAX_Err:0  Inlet:26   NaN   NaN   NaN\n"
     ]
    }
   ],
   "source": [
    "head1 = ErrHead.drop(['Err','PWR','MaxErr'],axis=1)\n",
    "print(head1)"
   ]
  },
  {
   "cell_type": "code",
   "execution_count": 76,
   "metadata": {},
   "outputs": [
    {
     "name": "stdout",
     "output_type": "stream",
     "text": [
      "   timeStamp Cload    Kp    Ki    Kd  Kcpu  Imax  Imin\n",
      "1        0.0   360  0.00  0.00  0.00   0.0   0.0   0.0\n",
      "   timeStamp Cload    Kp    Ki    Kd  Kcpu  Imax  Imin\n",
      "1        1.0   360  0.00  0.00  0.00   0.0   0.0   0.0\n"
     ]
    },
    {
     "name": "stderr",
     "output_type": "stream",
     "text": [
      "<ipython-input-76-257838883b1d>:4: SettingWithCopyWarning: \n",
      "A value is trying to be set on a copy of a slice from a DataFrame.\n",
      "Try using .loc[row_indexer,col_indexer] = value instead\n",
      "\n",
      "See the caveats in the documentation: https://pandas.pydata.org/pandas-docs/stable/user_guide/indexing.html#returning-a-view-versus-a-copy\n",
      "  CloadHead['timeStamp'] = CloadHead['timeStamp']+1\n"
     ]
    }
   ],
   "source": [
    "CloadHead = head1.head(1)\n",
    "print(CloadHead)\n",
    "\n",
    "CloadHead['timeStamp'] = CloadHead['timeStamp']+1"
   ]
  },
  {
   "cell_type": "code",
   "execution_count": 81,
   "metadata": {},
   "outputs": [
    {
     "name": "stdout",
     "output_type": "stream",
     "text": [
      "   timeStamp    Err         PWR_SUM    MAX_Err     Inlet\n",
      "2        1.0  Err:0  PWR_SUM:296019  MAX_Err:0  Inlet:26\n"
     ]
    }
   ],
   "source": [
    "ErrHead = head1.tail(1)\n",
    "# print(ErrHead)\n",
    "\n",
    "ErrDrop = ErrHead.drop(['Kcpu','Imax','Imin'], axis=1)\n",
    "\n",
    "ErrRename = ErrDrop.rename(columns={'Cload':'Err', 'Kp':'PWR_SUM', 'Ki':'MAX_Err', 'Kd':'Inlet'})\n",
    "print(ErrRename)"
   ]
  },
  {
   "cell_type": "code",
   "execution_count": 82,
   "metadata": {},
   "outputs": [
    {
     "name": "stdout",
     "output_type": "stream",
     "text": [
      "   timeStamp Cload    Kp    Ki    Kd  Kcpu  Imax  Imin    Err         PWR_SUM  \\\n",
      "0        1.0   360  0.00  0.00  0.00   0.0   0.0   0.0  Err:0  PWR_SUM:296019   \n",
      "\n",
      "     MAX_Err     Inlet  \n",
      "0  MAX_Err:0  Inlet:26  \n"
     ]
    }
   ],
   "source": [
    "m1 = pd.merge(CloadHead, ErrRename, on='timeStamp')\n",
    "print(m1)"
   ]
  },
  {
   "cell_type": "markdown",
   "metadata": {},
   "source": [
    "# 合併成完整檔"
   ]
  },
  {
   "cell_type": "code",
   "execution_count": 83,
   "metadata": {},
   "outputs": [
    {
     "name": "stdout",
     "output_type": "stream",
     "text": [
      "   timeStamp Cload    Kp    Ki    Kd  Kcpu  Imax  Imin    Err         PWR_SUM  \\\n",
      "0        1.0   360  0.00  0.00  0.00   0.0   0.0   0.0  Err:0  PWR_SUM:296019   \n",
      "0      364.0   360  0.00  0.00  0.00   0.0   0.0   0.0  Err:0  PWR_SUM:296019   \n",
      "1      727.0   360  0.00  0.00  0.00   0.0   0.0   0.0  Err:0  PWR_SUM:296019   \n",
      "2     1090.0   360  0.00  0.00  0.00   0.0   0.0   0.0  Err:0  PWR_SUM:296019   \n",
      "3     1453.0   360  0.00  0.00  0.00   0.0   0.0   0.0  Err:0  PWR_SUM:296019   \n",
      "4     1816.0   360  0.00  0.00  0.00   0.0   0.0   0.0  Err:0  PWR_SUM:296019   \n",
      "5     2179.0   360  0.00  0.00  0.00   0.0   0.0   0.0  Err:0  PWR_SUM:296019   \n",
      "6     2542.0    60  0.00  0.00  0.00   0.0   0.0   0.0  Err:0   PWR_SUM:50661   \n",
      "7     2605.0    60  0.00  0.00  0.00   0.0   0.0   0.0  Err:0   PWR_SUM:50661   \n",
      "8     2668.0    60  0.00  0.00  0.00   0.0   0.0   0.0  Err:0   PWR_SUM:50661   \n",
      "9     2731.0    60  0.00  0.00  0.00   0.0   0.0   0.0  Err:0   PWR_SUM:50661   \n",
      "\n",
      "     MAX_Err     Inlet  \n",
      "0  MAX_Err:0  Inlet:26  \n",
      "0  MAX_Err:0  Inlet:26  \n",
      "1  MAX_Err:0  Inlet:26  \n",
      "2  MAX_Err:0  Inlet:26  \n",
      "3  MAX_Err:0  Inlet:26  \n",
      "4  MAX_Err:0  Inlet:26  \n",
      "5  MAX_Err:0  Inlet:26  \n",
      "6  MAX_Err:0  Inlet:25  \n",
      "7  MAX_Err:0  Inlet:25  \n",
      "8  MAX_Err:0  Inlet:25  \n",
      "9  MAX_Err:0  Inlet:25  \n"
     ]
    }
   ],
   "source": [
    "m2 = pd.concat([m1, mergeCloadAndErr1], axis=0)\n",
    "print(m2)"
   ]
  },
  {
   "cell_type": "code",
   "execution_count": 84,
   "metadata": {},
   "outputs": [
    {
     "name": "stdout",
     "output_type": "stream",
     "text": [
      "已於 processCsvFloder 資料夾，匯出檔案！\n",
      "檔名為：2021-07-31_17-42-07_merge_data.csv\n"
     ]
    }
   ],
   "source": [
    "m2.to_csv(f'./processCsvFolder/{dateStr}_merge_data.csv', index=False)\n",
    "print(f'5. 已於 processCsvFloder 資料夾，匯出檔案！\\n檔名為：{dateStr}_merge_data.csv')"
   ]
  },
  {
   "cell_type": "code",
   "execution_count": null,
   "metadata": {},
   "outputs": [],
   "source": []
  }
 ],
 "metadata": {
  "colab": {
   "collapsed_sections": [],
   "name": "(練習) 用 NumPy 讀取 txt.ipynb",
   "provenance": []
  },
  "kernelspec": {
   "display_name": "Python 3",
   "language": "python",
   "name": "python3"
  },
  "language_info": {
   "codemirror_mode": {
    "name": "ipython",
    "version": 3
   },
   "file_extension": ".py",
   "mimetype": "text/x-python",
   "name": "python",
   "nbconvert_exporter": "python",
   "pygments_lexer": "ipython3",
   "version": "3.9.6"
  }
 },
 "nbformat": 4,
 "nbformat_minor": 4
}
